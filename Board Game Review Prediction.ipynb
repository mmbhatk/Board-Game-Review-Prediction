{
 "cells": [
  {
   "cell_type": "code",
   "execution_count": 3,
   "metadata": {},
   "outputs": [],
   "source": [
    "import sys\n",
    "import pandas\n",
    "import matplotlib.pyplot as plt\n",
    "import seaborn as sns\n",
    "from sklearn.model_selection import train_test_split"
   ]
  },
  {
   "cell_type": "code",
   "execution_count": 4,
   "metadata": {},
   "outputs": [],
   "source": [
    "#Load the data\n",
    "games = pandas.read_csv('games.csv')"
   ]
  },
  {
   "cell_type": "code",
   "execution_count": 5,
   "metadata": {
    "scrolled": true
   },
   "outputs": [
    {
     "name": "stdout",
     "output_type": "stream",
     "text": [
      "Index(['id', 'type', 'name', 'yearpublished', 'minplayers', 'maxplayers',\n",
      "       'playingtime', 'minplaytime', 'maxplaytime', 'minage', 'users_rated',\n",
      "       'average_rating', 'bayes_average_rating', 'total_owners',\n",
      "       'total_traders', 'total_wanters', 'total_wishers', 'total_comments',\n",
      "       'total_weights', 'average_weight'],\n",
      "      dtype='object')\n",
      "(81312, 20)\n"
     ]
    }
   ],
   "source": [
    "#Print the names of the columns and the dimensions of the dataset\n",
    "print(games.columns)\n",
    "print(games.shape)"
   ]
  },
  {
   "cell_type": "code",
   "execution_count": 6,
   "metadata": {},
   "outputs": [
    {
     "data": {
      "text/plain": [
       "boardgame             70820\n",
       "boardgameexpansion    10492\n",
       "Name: type, dtype: int64"
      ]
     },
     "execution_count": 6,
     "metadata": {},
     "output_type": "execute_result"
    }
   ],
   "source": [
    "#Different types of games and their frequencies\n",
    "games['type'].value_counts()"
   ]
  },
  {
   "cell_type": "code",
   "execution_count": 7,
   "metadata": {},
   "outputs": [],
   "source": [
    "#Applying label encoder for the 'type' column since it is categorical\n",
    "from sklearn.preprocessing import LabelEncoder\n",
    "labelEncoder = LabelEncoder()\n",
    "games.iloc[:, 1] = labelEncoder.fit_transform(games.iloc[:, 1])"
   ]
  },
  {
   "cell_type": "code",
   "execution_count": 8,
   "metadata": {},
   "outputs": [
    {
     "name": "stdout",
     "output_type": "stream",
     "text": [
      "0    0\n",
      "1    0\n",
      "2    0\n",
      "3    0\n",
      "4    0\n",
      "Name: type, dtype: int64\n"
     ]
    }
   ],
   "source": [
    "#Verify the label encoding\n",
    "df = pandas.DataFrame(games)\n",
    "print(df['type'].head())"
   ]
  },
  {
   "cell_type": "code",
   "execution_count": 9,
   "metadata": {},
   "outputs": [
    {
     "data": {
      "image/png": "[encoded data removed]",
      "text/plain": [
       "<matplotlib.figure.Figure at 0x251d8265198>"
      ]
     },
     "metadata": {},
     "output_type": "display_data"
    }
   ],
   "source": [
    "#Making a histogram of the average_rating column\n",
    "plt.hist(games['average_rating']);\n",
    "plt.show()"
   ]
  },
  {
   "cell_type": "code",
   "execution_count": 10,
   "metadata": {},
   "outputs": [
    {
     "name": "stdout",
     "output_type": "stream",
     "text": [
      "        id  type           name  yearpublished  minplayers  maxplayers  \\\n",
      "13048  318     0     Looney Leo            0.0         0.0         0.0   \n",
      "13068  579     0  Field of Fire         2002.0         2.0         0.0   \n",
      "13114  894     0      LifeLinks         2000.0         1.0         8.0   \n",
      "13116  897     0      Dear Abby         1992.0         3.0         4.0   \n",
      "13124  946     0       Rolazone         1999.0         2.0         2.0   \n",
      "\n",
      "       playingtime  minplaytime  maxplaytime  minage  users_rated  \\\n",
      "13048          0.0          0.0          0.0     0.0            0   \n",
      "13068          0.0          0.0          0.0    12.0            0   \n",
      "13114         10.0         10.0         10.0     8.0            0   \n",
      "13116         60.0         60.0         60.0    13.0            0   \n",
      "13124         30.0         30.0         30.0     0.0            0   \n",
      "\n",
      "       average_rating  bayes_average_rating  total_owners  total_traders  \\\n",
      "13048             0.0                   0.0             0              0   \n",
      "13068             0.0                   0.0             2              0   \n",
      "13114             0.0                   0.0             2              0   \n",
      "13116             0.0                   0.0             7              1   \n",
      "13124             0.0                   0.0             0              0   \n",
      "\n",
      "       total_wanters  total_wishers  total_comments  total_weights  \\\n",
      "13048              0              1               0              0   \n",
      "13068              0              1               0              0   \n",
      "13114              1              1               0              0   \n",
      "13116              0              0               0              0   \n",
      "13124              0              3               0              0   \n",
      "\n",
      "       average_weight  \n",
      "13048             0.0  \n",
      "13068             0.0  \n",
      "13114             0.0  \n",
      "13116             0.0  \n",
      "13124             0.0  \n"
     ]
    }
   ],
   "source": [
    "#Print the first 5 rows of all the games with zero ratings\n",
    "print(games[games['average_rating']==0].head())"
   ]
  },
  {
   "cell_type": "code",
   "execution_count": 11,
   "metadata": {},
   "outputs": [
    {
     "name": "stdout",
     "output_type": "stream",
     "text": [
      "       id  type                                       name  yearpublished  \\\n",
      "0   12333     0                          Twilight Struggle         2005.0   \n",
      "1  120677     0                              Terra Mystica         2012.0   \n",
      "2  102794     0                  Caverna: The Cave Farmers         2013.0   \n",
      "3   25613     0  Through the Ages: A Story of Civilization         2006.0   \n",
      "4    3076     0                                Puerto Rico         2002.0   \n",
      "\n",
      "   minplayers  maxplayers  playingtime  minplaytime  maxplaytime  minage  \\\n",
      "0         2.0         2.0        180.0        180.0        180.0    13.0   \n",
      "1         2.0         5.0        150.0         60.0        150.0    12.0   \n",
      "2         1.0         7.0        210.0         30.0        210.0    12.0   \n",
      "3         2.0         4.0        240.0        240.0        240.0    12.0   \n",
      "4         2.0         5.0        150.0         90.0        150.0    12.0   \n",
      "\n",
      "   users_rated  average_rating  bayes_average_rating  total_owners  \\\n",
      "0        20113         8.33774               8.22186         26647   \n",
      "1        14383         8.28798               8.14232         16519   \n",
      "2         9262         8.28994               8.06886         12230   \n",
      "3        13294         8.20407               8.05804         14343   \n",
      "4        39883         8.14261               8.04524         44362   \n",
      "\n",
      "   total_traders  total_wanters  total_wishers  total_comments  total_weights  \\\n",
      "0            372           1219           5865            5347           2562   \n",
      "1            132           1586           6277            2526           1423   \n",
      "2             99           1476           5600            1700            777   \n",
      "3            362           1084           5075            3378           1642   \n",
      "4            795            861           5414            9173           5213   \n",
      "\n",
      "   average_weight  \n",
      "0          3.4785  \n",
      "1          3.8939  \n",
      "2          3.7761  \n",
      "3          4.1590  \n",
      "4          3.2943  \n"
     ]
    }
   ],
   "source": [
    "#Print the first 5 rows of all the games with non-zero scores\n",
    "print(games[games['average_rating']>0].head())"
   ]
  },
  {
   "cell_type": "code",
   "execution_count": 12,
   "metadata": {},
   "outputs": [],
   "source": [
    "#Remove the observations which have not been rated by any user\n",
    "games = games[games['users_rated']>0]\n",
    "\n",
    "#Remove the observations with missing values\n",
    "games.dropna(axis = 0, inplace = True)"
   ]
  },
  {
   "cell_type": "code",
   "execution_count": 13,
   "metadata": {
    "scrolled": true
   },
   "outputs": [
    {
     "data": {
      "image/png": "[encoded data removed]",
      "text/plain": [
       "<matplotlib.figure.Figure at 0x251d7333a90>"
      ]
     },
     "metadata": {},
     "output_type": "display_data"
    }
   ],
   "source": [
    "#Making a histogram of the average_rating column\n",
    "plt.hist(games['average_rating']);\n",
    "plt.show()"
   ]
  },
  {
   "cell_type": "code",
   "execution_count": 14,
   "metadata": {},
   "outputs": [],
   "source": [
    "#Correlation matrix\n",
    "corrmat = games.corr()"
   ]
  },
  {
   "cell_type": "code",
   "execution_count": 15,
   "metadata": {},
   "outputs": [
    {
     "data": {
      "image/png": "[encoded data removed]",
      "text/plain": [
       "<matplotlib.figure.Figure at 0x251d56991d0>"
      ]
     },
     "metadata": {},
     "output_type": "display_data"
    }
   ],
   "source": [
    "#Make a heat map by making use of the correlation matrix\n",
    "fig = plt.figure(figsize=(12, 9))\n",
    "sns.heatmap(corrmat, square = True);"
   ]
  },
  {
   "cell_type": "code",
   "execution_count": 16,
   "metadata": {},
   "outputs": [
    {
     "name": "stdout",
     "output_type": "stream",
     "text": [
      "['id', 'type', 'name', 'yearpublished', 'minplayers', 'maxplayers', 'playingtime', 'minplaytime', 'maxplaytime', 'minage', 'users_rated', 'average_rating', 'bayes_average_rating', 'total_owners', 'total_traders', 'total_wanters', 'total_wishers', 'total_comments', 'total_weights', 'average_weight']\n"
     ]
    }
   ],
   "source": [
    "#Print all the columns in the dataset as a Python list\n",
    "print(games.columns.tolist())"
   ]
  },
  {
   "cell_type": "code",
   "execution_count": 17,
   "metadata": {},
   "outputs": [],
   "source": [
    "#Filter the columns to remove the data that we do not need\n",
    "columns = [c for c in games.columns if c not in ['bayes_average_rating', 'average_rating', 'name', 'id']]\n",
    "\n",
    "#Store the variable to be precicted\n",
    "target = 'average_rating'"
   ]
  },
  {
   "cell_type": "code",
   "execution_count": 18,
   "metadata": {},
   "outputs": [],
   "source": [
    "#Generate training and test datasets\n",
    "from sklearn.model_selection import train_test_split\n",
    "\n",
    "#Generating the training set\n",
    "train = games.sample(frac = 0.8, random_state = 1)\n",
    "\n",
    "#Generating the test set\n",
    "test = games.loc[~games.index.isin(train.index)]"
   ]
  },
  {
   "cell_type": "code",
   "execution_count": 19,
   "metadata": {},
   "outputs": [
    {
     "name": "stdout",
     "output_type": "stream",
     "text": [
      "Train:  (45515, 20)\n"
     ]
    }
   ],
   "source": [
    "print(\"Train: \", train.shape)"
   ]
  },
  {
   "cell_type": "code",
   "execution_count": 20,
   "metadata": {},
   "outputs": [],
   "source": [
    "#Import the linear regression model and random forest model\n",
    "from sklearn.linear_model import LinearRegression\n",
    "from sklearn.ensemble import RandomForestRegressor\n",
    "from sklearn.metrics import mean_squared_error"
   ]
  },
  {
   "cell_type": "code",
   "execution_count": 21,
   "metadata": {},
   "outputs": [
    {
     "data": {
      "text/plain": [
       "1.8946970739243956"
      ]
     },
     "execution_count": 21,
     "metadata": {},
     "output_type": "execute_result"
    }
   ],
   "source": [
    "#Linear Regression model\n",
    "lin_reg = LinearRegression()\n",
    "\n",
    "#Fit the linear regression model\n",
    "lin_reg.fit(train[columns], train[target])\n",
    "\n",
    "#Generate predictions for the test set\n",
    "pred = lin_reg.predict(test[columns])\n",
    "\n",
    "#Compute the error between the actual values and the predicted values\n",
    "mean_squared_error(test[target], pred)"
   ]
  },
  {
   "cell_type": "code",
   "execution_count": 22,
   "metadata": {},
   "outputs": [
    {
     "data": {
      "text/plain": [
       "1.4109015812880967"
      ]
     },
     "execution_count": 22,
     "metadata": {},
     "output_type": "execute_result"
    }
   ],
   "source": [
    "#Random Forest model\n",
    "random_forest = RandomForestRegressor(n_estimators = 100, min_samples_leaf = 10, random_state = 1)\n",
    "\n",
    "#Fit the random forest model\n",
    "random_forest.fit(train[columns], train[target])\n",
    "\n",
    "#Generate predictions for the test set\n",
    "pred = random_forest.predict(test[columns])\n",
    "\n",
    "#Compute the error between the actual values and the predicted values\n",
    "mean_squared_error(test[target], pred)"
   ]
  },
  {
   "cell_type": "code",
   "execution_count": 23,
   "metadata": {},
   "outputs": [
    {
     "name": "stdout",
     "output_type": "stream",
     "text": [
      "type                  0.0000\n",
      "yearpublished      2011.0000\n",
      "minplayers            2.0000\n",
      "maxplayers            6.0000\n",
      "playingtime         200.0000\n",
      "minplaytime          60.0000\n",
      "maxplaytime         200.0000\n",
      "minage               14.0000\n",
      "users_rated       15709.0000\n",
      "total_owners      17611.0000\n",
      "total_traders       273.0000\n",
      "total_wanters      1108.0000\n",
      "total_wishers      5581.0000\n",
      "total_comments     3188.0000\n",
      "total_weights      1486.0000\n",
      "average_weight        3.6359\n",
      "Name: 9, dtype: float64\n"
     ]
    }
   ],
   "source": [
    "#Consider the first observation in the test set\n",
    "print(test[columns].iloc[0])"
   ]
  },
  {
   "cell_type": "code",
   "execution_count": 26,
   "metadata": {},
   "outputs": [
    {
     "name": "stdout",
     "output_type": "stream",
     "text": [
      "Linear Regression model rating:  9.17206\n",
      "Random Forest model rating:  7.96949\n",
      "Actual rating:  8.07933\n"
     ]
    }
   ],
   "source": [
    "#Make predictions with both the models\n",
    "pred_lin_reg = lin_reg.predict(test[columns].iloc[0].values.reshape(1, -1))\n",
    "pred_random_forest = random_forest.predict(test[columns].iloc[0].values.reshape(1, -1))\n",
    "\n",
    "#Print the predictions\n",
    "print(\"Linear Regression model rating: \", round(pred_lin_reg[0],5))\n",
    "print(\"Random Forest model rating: \", round(pred_random_forest[0],5))\n",
    "print(\"Actual rating: \", test[target].iloc[0])"
   ]
  },
  {
   "cell_type": "code",
   "execution_count": null,
   "metadata": {},
   "outputs": [],
   "source": []
  }
 ],
 "metadata": {
  "kernelspec": {
   "display_name": "Python 3",
   "language": "python",
   "name": "python3"
  },
  "language_info": {
   "codemirror_mode": {
    "name": "ipython",
    "version": 3
   },
   "file_extension": ".py",
   "mimetype": "text/x-python",
   "name": "python",
   "nbconvert_exporter": "python",
   "pygments_lexer": "ipython3",
   "version": "3.6.4"
  }
 },
 "nbformat": 4,
 "nbformat_minor": 2
}
